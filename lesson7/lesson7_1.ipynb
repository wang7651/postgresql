{
 "cells": [
  {
   "cell_type": "markdown",
   "id": "51e6acac",
   "metadata": {},
   "source": [
    "### 這是python基礎課程\n",
    "- python基本資料型別"
   ]
  },
  {
   "cell_type": "code",
   "execution_count": 6,
   "id": "5d761409",
   "metadata": {},
   "outputs": [
    {
     "name": "stdout",
     "output_type": "stream",
     "text": [
      "Hello! Python!\n",
      "以下是python的基本資料類型(int,float,str,bool)\n"
     ]
    },
    {
     "data": {
      "text/plain": [
       "False"
      ]
     },
     "execution_count": 6,
     "metadata": {},
     "output_type": "execute_result"
    }
   ],
   "source": [
    "print(\"Hello! Python!\")\n",
    "print(\"以下是python的基本資料類型(int,float,str,bool)\")\n",
    "15 #整數,(int)\n",
    "15.0 #浮點數,(float)\n",
    "\"15.0\" #字串,(str)\n",
    "'15.0' #字串,(str)\n",
    "True #布林值,(bool)\n",
    "False #布林值,(bool)"
   ]
  },
  {
   "cell_type": "code",
   "execution_count": 4,
   "id": "e5693daa",
   "metadata": {},
   "outputs": [
    {
     "name": "stdout",
     "output_type": "stream",
     "text": [
      "SELECT \"stationCode\",\"stationName\",\"stationAddrTw\"\n",
      "FROM \"台鐵車站資訊\"\n",
      "WHERE \"stationAddrTw\" LIKE '%基隆市%';\n"
     ]
    }
   ],
   "source": [
    "print(\"SELECT \\\"stationCode\\\",\\\"stationName\\\",\\\"stationAddrTw\\\"\\nFROM \\\"台鐵車站資訊\\\"\\nWHERE \\\"stationAddrTw\\\" LIKE \\'%基隆市%\\';\")"
   ]
  },
  {
   "cell_type": "code",
   "execution_count": 6,
   "id": "0b57c6ee",
   "metadata": {},
   "outputs": [
    {
     "data": {
      "text/plain": [
       "'單行字串'"
      ]
     },
     "execution_count": 6,
     "metadata": {},
     "output_type": "execute_result"
    }
   ],
   "source": [
    "\"單行字串\"\n",
    "'單行字串'"
   ]
  },
  {
   "cell_type": "code",
   "execution_count": 10,
   "id": "1fff5752",
   "metadata": {},
   "outputs": [
    {
     "name": "stdout",
     "output_type": "stream",
     "text": [
      "SELECT \"stationCode\",\"stationName\",\"stationAddrTw\"\n",
      "FROM \"台鐵車站資訊\"\n",
      "WHERE \"stationAddrTw\" LIKE '%基隆市%';\n"
     ]
    }
   ],
   "source": [
    "#多行字串\n",
    "print(\"\"\"SELECT \"stationCode\",\"stationName\",\"stationAddrTw\"\n",
    "FROM \"台鐵車站資訊\"\n",
    "WHERE \"stationAddrTw\" LIKE '%基隆市%';\"\"\")"
   ]
  },
  {
   "cell_type": "code",
   "execution_count": 11,
   "id": "8e3a8918",
   "metadata": {},
   "outputs": [
    {
     "name": "stdout",
     "output_type": "stream",
     "text": [
      "CREATE TABLE 台鐵車站資訊 (\n",
      "\t\"stationCode\" int4 NOT NULL,\n",
      "\t\"stationName\" varchar(50) NULL,\n",
      "\t\"name\" varchar(50) NULL,\n",
      "\t\"stationAddrTw\" varchar(50) NULL,\n",
      "\t\"stationTel\" varchar(50) NULL,\n",
      "\tgps varchar(50) NULL,\n",
      "\t\"haveBike\" varchar(50) NULL,\n",
      "\tCONSTRAINT 台鐵車站資訊_pkey PRIMARY KEY (\"stationCode\")\n",
      ");\n"
     ]
    }
   ],
   "source": [
    "print(\"\"\"CREATE TABLE 台鐵車站資訊 (\n",
    "\t\"stationCode\" int4 NOT NULL,\n",
    "\t\"stationName\" varchar(50) NULL,\n",
    "\t\"name\" varchar(50) NULL,\n",
    "\t\"stationAddrTw\" varchar(50) NULL,\n",
    "\t\"stationTel\" varchar(50) NULL,\n",
    "\tgps varchar(50) NULL,\n",
    "\t\"haveBike\" varchar(50) NULL,\n",
    "\tCONSTRAINT 台鐵車站資訊_pkey PRIMARY KEY (\"stationCode\")\n",
    ");\"\"\")"
   ]
  },
  {
   "cell_type": "code",
   "execution_count": 13,
   "id": "861ebd76",
   "metadata": {},
   "outputs": [
    {
     "name": "stdout",
     "output_type": "stream",
     "text": [
      "SELECT\n",
      "  \"stationCode\",\n",
      "  \"stationName\",\n",
      "  \"name\"\n",
      "FROM\n",
      "  \"台鐵車站資訊\"\n",
      "WHERE\n",
      "  \"stationAddrTw\" LIKE '基隆市%';\n"
     ]
    }
   ],
   "source": [
    "print(\"\"\"SELECT\n",
    "  \"stationCode\",\n",
    "  \"stationName\",\n",
    "  \"name\"\n",
    "FROM\n",
    "  \"台鐵車站資訊\"\n",
    "WHERE\n",
    "  \"stationAddrTw\" LIKE '基隆市%';\"\"\")"
   ]
  }
 ],
 "metadata": {
  "kernelspec": {
   "display_name": "pydev",
   "language": "python",
   "name": "python3"
  },
  "language_info": {
   "codemirror_mode": {
    "name": "ipython",
    "version": 3
   },
   "file_extension": ".py",
   "mimetype": "text/x-python",
   "name": "python",
   "nbconvert_exporter": "python",
   "pygments_lexer": "ipython3",
   "version": "3.10.18"
  }
 },
 "nbformat": 4,
 "nbformat_minor": 5
}
