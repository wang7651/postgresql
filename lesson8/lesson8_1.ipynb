{
 "cells": [
  {
   "cell_type": "code",
   "execution_count": 13,
   "id": "803720a3",
   "metadata": {},
   "outputs": [
    {
     "name": "stdout",
     "output_type": "stream",
     "text": [
      "SELECT \"stationCode\",name,\"stationAddrTw\",日期,進站人數,出站人數\n",
      "FROM \"台鐵車站資訊\" LEFT JOIN \"每日各站進出站人數\" ON \"stationCode\" = \"車站代碼\"\n",
      "WHERE \"stationAddrTw\" LIKE '%臺北市%';\n"
     ]
    }
   ],
   "source": [
    "sql = \"\"\"SELECT \"stationCode\",name,\"stationAddrTw\",日期,進站人數,出站人數\n",
    "FROM \"台鐵車站資訊\" LEFT JOIN \"每日各站進出站人數\" ON \"stationCode\" = \"車站代碼\"\n",
    "WHERE \"stationAddrTw\" LIKE '%臺北市%';\"\"\"\n",
    "\n",
    "print(sql)"
   ]
  },
  {
   "cell_type": "code",
   "execution_count": null,
   "id": "bef37445",
   "metadata": {},
   "outputs": [
    {
     "name": "stdout",
     "output_type": "stream",
     "text": [
      "<class 'int'>\n",
      "<class 'float'>\n",
      "<class 'str'>\n",
      "===========\n",
      "10\n",
      "15.0\n",
      "50\n"
     ]
    }
   ],
   "source": [
    "#建立變數\n",
    "n = 5\n",
    "m = 10.0\n",
    "x = '5'\n",
    "print(type(n))\n",
    "print(type(m))\n",
    "print(type(x))\n",
    "\n",
    "print(\"===========\")\n",
    "\n",
    "n = 10\n",
    "m = 15.0\n",
    "x = '50'\n",
    "print(n)\n",
    "print(m)\n",
    "print(x)"
   ]
  },
  {
   "cell_type": "code",
   "execution_count": null,
   "id": "f5125339",
   "metadata": {},
   "outputs": [
    {
     "data": {
      "text/plain": [
       "tuple"
      ]
     },
     "execution_count": 17,
     "metadata": {},
     "output_type": "execute_result"
    }
   ],
   "source": [
    "#建立tuple\n",
    "student1 = (87, 76, 65, 78, 92) #Sequence(串列資料)\n",
    "student1\n",
    "type(student1)"
   ]
  },
  {
   "cell_type": "code",
   "execution_count": null,
   "id": "8773c99b",
   "metadata": {},
   "outputs": [
    {
     "data": {
      "text/plain": [
       "92"
      ]
     },
     "execution_count": 26,
     "metadata": {},
     "output_type": "execute_result"
    }
   ],
   "source": [
    "#建立list\n",
    "student2 = [87, 76, 65, 78, 92] #Sequence(序列資料)\n",
    "student2\n",
    "type(student2)\n",
    "\n",
    "#使用subscript取出元素值\n",
    "student2[0]\n",
    "student2[1]\n",
    "student2[2]\n",
    "student2[3]\n",
    "student2[4]\n",
    "#student2[5] # 超出索引會出錯"
   ]
  },
  {
   "cell_type": "code",
   "execution_count": null,
   "id": "75069c38",
   "metadata": {},
   "outputs": [
    {
     "data": {
      "text/plain": [
       "87"
      ]
     },
     "execution_count": 30,
     "metadata": {},
     "output_type": "execute_result"
    }
   ],
   "source": [
    "#建立dict(dictionary)\n",
    "student3 = {'chinese':67,'english':75,'math':89,'history':87,'discovery':92} #mapping(映射資料)\n",
    "type(student3)\n",
    "#使用subscript取出值\n",
    "student3['math']\n",
    "student3['history']"
   ]
  },
  {
   "cell_type": "code",
   "execution_count": 34,
   "id": "9b386f9d",
   "metadata": {},
   "outputs": [
    {
     "data": {
      "text/plain": [
       "92"
      ]
     },
     "execution_count": 34,
     "metadata": {},
     "output_type": "execute_result"
    }
   ],
   "source": [
    "#tuple的拆解法\n",
    "m, n = 78, 92\n",
    "m\n",
    "n"
   ]
  },
  {
   "cell_type": "code",
   "execution_count": null,
   "id": "10d0d9a6",
   "metadata": {},
   "outputs": [
    {
     "data": {
      "text/plain": [
       "78"
      ]
     },
     "execution_count": 1,
     "metadata": {},
     "output_type": "execute_result"
    }
   ],
   "source": [
    "#建立4個學生的list\n",
    "student1 = [87, 76, 65, 78, 92] #Sequence(序列資料)\n",
    "student2 = [67, 75, 89, 87, 92] #Sequence(序列資料)\n",
    "student3 = [78, 82, 90, 85, 88] #Sequence(序列資料)\n",
    "student4 = [80, 70, 75, 90, 95] #Sequence(序列資料)\n",
    "\n",
    "#建立4個學生的dict\n",
    "student5 = {'chinese':87,'english':76,'math':65,'history':78,'discovery':92} #mapping(映射資料)\n",
    "student6 = {'chinese':67,'english':75,'math':89,'history':87,'discovery':92}\n",
    "student7 = {'chinese':78,'english':82,'math':90,'history':85,'discovery':88}\n",
    "student8 = {'chinese':80,'english':70,'math':75,'history':90,'discovery':95}\n",
    "\n",
    "#建立students的list,包含4個學生的dict\n",
    "students = [student5, student6, student7, student8] #Sequence(序列資料)\n",
    "students\n",
    "\n",
    "students[0]['chinese']\n",
    "students[2]['chinese']"
   ]
  },
  {
   "cell_type": "code",
   "execution_count": 3,
   "id": "235dbf1c",
   "metadata": {},
   "outputs": [
    {
     "name": "stdout",
     "output_type": "stream",
     "text": [
      "75\n",
      "80\n"
     ]
    }
   ],
   "source": [
    "#建立students的list,包含6個學生的dict\n",
    "students = [\n",
    "    {'chinese': 87, 'english': 76, 'math': 65, 'history': 78, 'discovery': 92},\n",
    "    {'chinese': 67, 'english': 75, 'math': 89, 'history': 87, 'discovery': 92},\n",
    "    {'chinese': 78, 'english': 82, 'math': 90, 'history': 85, 'discovery': 88},\n",
    "    {'chinese': 80, 'english': 70, 'math': 75, 'history': 90, 'discovery': 95},\n",
    "    {'chinese': 85, 'english': 80, 'math': 88, 'history': 90, 'discovery': 91},\n",
    "    {'chinese': 90, 'english': 85, 'math': 92, 'history': 88, 'discovery': 94}\n",
    "] #Sequence(序列資料)\n",
    "print(students[3]['math'])  # Output: 90\n",
    "print(students[4]['english'])  # Output: 80\n",
    "\n"
   ]
  },
  {
   "cell_type": "code",
   "execution_count": null,
   "id": "4b047ffb",
   "metadata": {},
   "outputs": [],
   "source": []
  }
 ],
 "metadata": {
  "kernelspec": {
   "display_name": "base",
   "language": "python",
   "name": "python3"
  },
  "language_info": {
   "codemirror_mode": {
    "name": "ipython",
    "version": 3
   },
   "file_extension": ".py",
   "mimetype": "text/x-python",
   "name": "python",
   "nbconvert_exporter": "python",
   "pygments_lexer": "ipython3",
   "version": "3.13.2"
  }
 },
 "nbformat": 4,
 "nbformat_minor": 5
}
