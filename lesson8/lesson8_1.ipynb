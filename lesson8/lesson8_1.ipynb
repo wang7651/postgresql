{
 "cells": [
  {
   "cell_type": "code",
   "execution_count": 13,
   "id": "803720a3",
   "metadata": {},
   "outputs": [
    {
     "name": "stdout",
     "output_type": "stream",
     "text": [
      "SELECT \"stationCode\",name,\"stationAddrTw\",日期,進站人數,出站人數\n",
      "FROM \"台鐵車站資訊\" LEFT JOIN \"每日各站進出站人數\" ON \"stationCode\" = \"車站代碼\"\n",
      "WHERE \"stationAddrTw\" LIKE '%臺北市%';\n"
     ]
    }
   ],
   "source": [
    "sql = \"\"\"SELECT \"stationCode\",name,\"stationAddrTw\",日期,進站人數,出站人數\n",
    "FROM \"台鐵車站資訊\" LEFT JOIN \"每日各站進出站人數\" ON \"stationCode\" = \"車站代碼\"\n",
    "WHERE \"stationAddrTw\" LIKE '%臺北市%';\"\"\"\n",
    "\n",
    "print(sql)"
   ]
  },
  {
   "cell_type": "code",
   "execution_count": 14,
   "id": "bef37445",
   "metadata": {},
   "outputs": [
    {
     "name": "stdout",
     "output_type": "stream",
     "text": [
      "<class 'int'>\n",
      "<class 'float'>\n",
      "<class 'str'>\n",
      "===========\n",
      "10\n",
      "15.0\n",
      "50\n"
     ]
    }
   ],
   "source": [
    "#建立變數\n",
    "n = 5\n",
    "m = 10.0\n",
    "x = '5'\n",
    "print(type(n))\n",
    "print(type(m))\n",
    "print(type(x))\n",
    "\n",
    "print(\"===========\")\n",
    "\n",
    "n = 10\n",
    "m = 15.0\n",
    "x = '50'\n",
    "print(n)\n",
    "print(m)\n",
    "print(x)"
   ]
  }
 ],
 "metadata": {
  "kernelspec": {
   "display_name": "pydev",
   "language": "python",
   "name": "python3"
  },
  "language_info": {
   "codemirror_mode": {
    "name": "ipython",
    "version": 3
   },
   "file_extension": ".py",
   "mimetype": "text/x-python",
   "name": "python",
   "nbconvert_exporter": "python",
   "pygments_lexer": "ipython3",
   "version": "3.10.18"
  }
 },
 "nbformat": 4,
 "nbformat_minor": 5
}
