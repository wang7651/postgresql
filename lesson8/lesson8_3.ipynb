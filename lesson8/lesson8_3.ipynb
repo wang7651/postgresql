{
 "cells": [
  {
   "cell_type": "markdown",
   "id": "4e7b9a40",
   "metadata": {},
   "source": [
    "### 自訂function(函式)"
   ]
  },
  {
   "cell_type": "code",
   "execution_count": 1,
   "id": "2323951a",
   "metadata": {},
   "outputs": [
    {
     "name": "stdout",
     "output_type": "stream",
     "text": [
      "Hello, World!\n"
     ]
    }
   ],
   "source": [
    "#定義一個函式\n",
    "def sayHello():\n",
    "    print(\"Hello, World!\")\n",
    "\n",
    "sayHello()"
   ]
  },
  {
   "cell_type": "code",
   "execution_count": 2,
   "id": "957d3ab2",
   "metadata": {},
   "outputs": [
    {
     "name": "stdout",
     "output_type": "stream",
     "text": [
      "Hello! Robert\n"
     ]
    }
   ],
   "source": [
    "#定義一個函式,有一參數\n",
    "def say_hello(name):\n",
    "    print(\"Hello!\", name)\n",
    "\n",
    "\n",
    "say_hello(\"Robert\")"
   ]
  }
 ],
 "metadata": {
  "kernelspec": {
   "display_name": "pydev",
   "language": "python",
   "name": "python3"
  },
  "language_info": {
   "codemirror_mode": {
    "name": "ipython",
    "version": 3
   },
   "file_extension": ".py",
   "mimetype": "text/x-python",
   "name": "python",
   "nbconvert_exporter": "python",
   "pygments_lexer": "ipython3",
   "version": "3.10.18"
  }
 },
 "nbformat": 4,
 "nbformat_minor": 5
}
