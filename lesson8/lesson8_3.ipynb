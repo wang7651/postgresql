{
 "cells": [
  {
   "cell_type": "markdown",
   "id": "4e7b9a40",
   "metadata": {},
   "source": [
    "### 自訂function(函式)"
   ]
  }
 ],
 "metadata": {
  "kernelspec": {
   "display_name": "pydev",
   "language": "python",
   "name": "python3"
  },
  "language_info": {
   "name": "python",
   "version": "3.10.18"
  }
 },
 "nbformat": 4,
 "nbformat_minor": 5
}
